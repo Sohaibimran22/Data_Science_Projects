{
 "cells": [
  {
   "cell_type": "code",
   "execution_count": null,
   "metadata": {},
   "outputs": [],
   "source": [
    "# here is the code to apply the motion detection upon the video\n",
    "import cv2\n",
    "import numpy as np\n",
    "\n",
    "camera = cv2.VideoCapture(\"person-alone.mp4\")\n",
    "\n",
    "cv2.namedWindow(\"threshold value adjust\")\n",
    "cv2.resizeWindow(\"threshold value adjust\",640,240)\n",
    "def empty(n):\n",
    "    pass\n",
    "cv2.createTrackbar(\"threshold\",\"threshold value adjust\",150,255,empty)\n",
    "\n",
    "ret,frame1 = camera.read()\n",
    "ret,frame2 = camera.read()\n",
    "\n",
    "while camera.isOpened():\n",
    "    frame = frame1.copy()\n",
    "    diff = cv2.absdiff(frame1,frame2)\n",
    "    gray = cv2.cvtColor(diff,cv2.COLOR_BGR2GRAY)\n",
    "    blur = cv2.GaussianBlur(gray,(7,7),0)\n",
    "    thresh_value = cv2.getTrackbarPos(\"threshold\",\"threshold value adjust\")\n",
    "    _,thresh = cv2.threshold(blur,thresh_value,255,cv2.THRESH_BINARY)\n",
    "    _,contours,_ = cv2.findContours(thresh,cv2.RETR_TREE,cv2.CHAIN_APPROX_SIMPLE)\n",
    "    for contour in contours:\n",
    "        (x,y,w,h) = cv2.boundingRect(contour)\n",
    "        \n",
    "        if cv2.contourArea(contour) < 900:\n",
    "            continue\n",
    "        cv2.rectangle(frame, (x, y), (x+w, y+h), (0, 255, 0), 2)\n",
    "        cv2.putText(frame, \"Status: {}\".format('Movement'), (10, 20), cv2.FONT_HERSHEY_SIMPLEX,1, (0, 0, 255), 3)\n",
    "    #cv2.drawContours(frame,contours,-1,(0,255,0),2)\n",
    "    \n",
    "    cv2.imshow(\"difference\",diff)\n",
    "    cv2.imshow(\"threshhold\",thresh)\n",
    "    cv2.imshow(\"frame\",frame)\n",
    "    \n",
    "    frame2 = frame1\n",
    "    ret,frame1 = camera.read()\n",
    "    \n",
    "    if cv2.waitKey(100) & 0xFF == ord('q'):\n",
    "        break\n",
    "camera.release()\n",
    "cv2.destroyAllWindows()\n"
   ]
  }
 ],
 "metadata": {
  "kernelspec": {
   "display_name": "Python 3",
   "language": "python",
   "name": "python3"
  },
  "language_info": {
   "codemirror_mode": {
    "name": "ipython",
    "version": 3
   },
   "file_extension": ".py",
   "mimetype": "text/x-python",
   "name": "python",
   "nbconvert_exporter": "python",
   "pygments_lexer": "ipython3",
   "version": "3.7.4"
  }
 },
 "nbformat": 4,
 "nbformat_minor": 2
}
